{
 "cells": [
  {
   "cell_type": "markdown",
   "metadata": {},
   "source": [
    "# Runtime Comparison Among AVL Tree and Red Black Tree Insertion"
   ]
  },
  {
   "cell_type": "markdown",
   "metadata": {},
   "source": [
    "## Import Libraries"
   ]
  },
  {
   "cell_type": "code",
   "execution_count": 93,
   "metadata": {},
   "outputs": [],
   "source": [
    "from random import randint\n",
    "import time\n",
    "import matplotlib.pyplot as plt\n",
    "import seaborn as sns\n",
    "sns.set()"
   ]
  },
  {
   "cell_type": "markdown",
   "metadata": {},
   "source": [
    "## AVL Tree\n"
   ]
  },
  {
   "cell_type": "code",
   "execution_count": 94,
   "metadata": {},
   "outputs": [],
   "source": [
    "class AVLNode(object): \n",
    "    def __init__(self, val): \n",
    "        self.val = val \n",
    "        self.left = None\n",
    "        self.right = None\n",
    "        self.height = 1\n",
    "        self.root = None\n",
    "\n",
    "class AVL_Tree(object): \n",
    "   \n",
    "    def insert(self, root, key): \n",
    "\n",
    "        # Inserção com regras da BST \n",
    "        if not root: \n",
    "            return AVLNode(key) \n",
    "        elif key < root.val: \n",
    "            root.left = self.insert(root.left, key) \n",
    "        else: \n",
    "            root.right = self.insert(root.right, key) \n",
    "  \n",
    "        # Atualização da altura do nó pai\n",
    "\n",
    "        root.height = 1 + max(self.getHeight(root.left), \n",
    "                           self.getHeight(root.right))  \n",
    "        balance = self.getBalance(root) \n",
    "  \n",
    "        # Checando balanceamento do nó\n",
    "        # Rotação Esquerda Esquerda \n",
    "        if balance > 1 and key < root.left.val: \n",
    "            return self.rightRotate(root) \n",
    "  \n",
    "        # Rotação Direita Direita \n",
    "        if balance < -1 and key > root.right.val: \n",
    "            return self.leftRotate(root) \n",
    "  \n",
    "        # Rotação Esquerda Direita \n",
    "        if balance > 1 and key > root.left.val: \n",
    "            root.left = self.leftRotate(root.left) \n",
    "            return self.rightRotate(root) \n",
    "  \n",
    "        # Rotação Direita Esquerda \n",
    "        if balance < -1 and key < root.right.val: \n",
    "            root.right = self.rightRotate(root.right) \n",
    "            return self.leftRotate(root) \n",
    "  \n",
    "        return root \n",
    "\n",
    "    def delete(self, root, key): \n",
    "  \n",
    "        # Passo 1 - Perform standard BST delete \n",
    "        if not root: \n",
    "            return root \n",
    "  \n",
    "        elif key < root.val: \n",
    "            root.left = self.delete(root.left, key) \n",
    "  \n",
    "        elif key > root.val: \n",
    "            root.right = self.delete(root.right, key) \n",
    "  \n",
    "        else: \n",
    "            if root.left is None: \n",
    "                temp = root.right \n",
    "                root = None\n",
    "                return temp \n",
    "  \n",
    "            elif root.right is None: \n",
    "                temp = root.left \n",
    "                root = None\n",
    "                return temp \n",
    "  \n",
    "            temp = self.getMinValueNode(root.right) \n",
    "            root.val = temp.val \n",
    "            root.right = self.delete(root.right, \n",
    "                                      temp.val) \n",
    "  \n",
    "        # If the tree has only one node, \n",
    "        # simply return it \n",
    "        if root is None: \n",
    "            return root \n",
    "  \n",
    "        # Passo 2 - Update the height of the  \n",
    "        # ancestor node \n",
    "        root.height = 1 + max(self.getHeight(root.left), \n",
    "                            self.getHeight(root.right)) \n",
    "  \n",
    "        # Passo 3 - Get the balance factor \n",
    "        balance = self.getBalance(root) \n",
    "  \n",
    "        # Passo 4 - If the node is unbalanced,  \n",
    "        # then try out the 4 cases \n",
    "        # Case 1 - Esquerda Esquerda \n",
    "        if balance > 1 and self.getBalance(root.left) >= 0: \n",
    "            return self.rightRotate(root) \n",
    "  \n",
    "        # Case 2 - Direita Direita \n",
    "        if balance < -1 and self.getBalance(root.right) <= 0: \n",
    "            return self.leftRotate(root) \n",
    "  \n",
    "        # Case 3 - Esquerda Direita \n",
    "        if balance > 1 and self.getBalance(root.left) < 0: \n",
    "            root.left = self.leftRotate(root.left) \n",
    "            return self.rightRotate(root) \n",
    "  \n",
    "        # Case 4 - Direita Esquerda \n",
    "        if balance < -1 and self.getBalance(root.right) > 0: \n",
    "            root.right = self.rightRotate(root.right) \n",
    "            return self.leftRotate(root) \n",
    "  \n",
    "        return root \n",
    "\n",
    "    def leftRotate(self, z): \n",
    "  \n",
    "        y = z.right \n",
    "        T2 = y.left \n",
    "  \n",
    "        # Realizar Rotação\n",
    "        y.left = z \n",
    "        z.right = T2 \n",
    "  \n",
    "        # Atualizar altura da arvore\n",
    "        z.height = 1 + max(self.getHeight(z.left), \n",
    "                         self.getHeight(z.right)) \n",
    "        y.height = 1 + max(self.getHeight(y.left), \n",
    "                         self.getHeight(y.right)) \n",
    "  \n",
    "        # retorna a nova raiz\n",
    "        return y \n",
    "\n",
    "    def rightRotate(self, z): \n",
    "  \n",
    "        y = z.left \n",
    "        T3 = y.right \n",
    "  \n",
    "        # Realiza a rotação\n",
    "        y.right = z \n",
    "        z.left = T3 \n",
    "  \n",
    "        # Atualiza a altura\n",
    "        z.height = 1 + max(self.getHeight(z.left), \n",
    "                        self.getHeight(z.right)) \n",
    "        y.height = 1 + max(self.getHeight(y.left), \n",
    "                        self.getHeight(y.right)) \n",
    "  \n",
    "        # Retorna a raiz\n",
    "        return y \n",
    "\n",
    "    def getHeight(self, root): \n",
    "        if not root: \n",
    "            return 0\n",
    "  \n",
    "        return root.height \n",
    "  \n",
    "    def getBalance(self, root): \n",
    "        if not root: \n",
    "            return 0\n",
    "  \n",
    "        return self.getHeight(root.left) - self.getHeight(root.right) \n",
    "  \n",
    "    def preOrder(self, root): \n",
    "  \n",
    "        if not root: \n",
    "            return\n",
    "  \n",
    "        print(\"{0} \".format(root.val), end=\"\") \n",
    "        self.preOrder(root.left) \n",
    "        self.preOrder(root.right) "
   ]
  },
  {
   "cell_type": "markdown",
   "metadata": {},
   "source": [
    "## Red Black Tree\n",
    "\n"
   ]
  },
  {
   "cell_type": "code",
   "execution_count": 115,
   "metadata": {},
   "outputs": [],
   "source": [
    "class RBNode():\n",
    "    def __init__(self, data):\n",
    "        self.data = data  # node key\n",
    "        self.parent = None # parent\n",
    "        self.left = None # left child\n",
    "        self.right = None # right child\n",
    "        self.color = 1 # node color\n",
    "\n",
    "\n",
    "class Red_Black_Tree():\n",
    "    def __init__(self):\n",
    "        self.NULL = RBNode(0)\n",
    "        self.NULL.color = 0\n",
    "        self.NULL.left = None\n",
    "        self.NULL.right = None\n",
    "        self.root = self.NULL\n",
    "\n",
    "    \n",
    "    def  fix_insert(self, node):\n",
    "        while node.parent.color == 1:\n",
    "            if node.parent == node.parent.parent.right:\n",
    "                uncle = node.parent.parent.left # uncle\n",
    "                if uncle.color == 1:\n",
    "                    # case 3.1\n",
    "                    uncle.color = 0\n",
    "                    node.parent.color = 0\n",
    "                    node.parent.parent.color = 1\n",
    "                    node = node.parent.parent\n",
    "                else:\n",
    "                    if node == node.parent.left:\n",
    "                        node = node.parent\n",
    "                        self.rotate_right(node)\n",
    "                    node.parent.color = 0\n",
    "                    node.parent.parent.color = 1\n",
    "                    self.rotate_left(node.parent.parent)\n",
    "            else:\n",
    "                uncle = node.parent.parent.right\n",
    "\n",
    "                if uncle.color == 1:\n",
    "                    uncle.color = 0\n",
    "                    node.parent.color = 0\n",
    "                    node.parent.parent.color = 1\n",
    "                    node = node.parent.parent \n",
    "                else:\n",
    "                    if node == node.parent.right:\n",
    "                        node = node.parent\n",
    "                        self.rotate_left(node)\n",
    "                    node.parent.color = 0\n",
    "                    node.parent.parent.color = 1\n",
    "                    self.rotate_right(node.parent.parent)\n",
    "            if node == self.root:\n",
    "                break\n",
    "        self.root.color = 0\n",
    "\n",
    "\n",
    "\n",
    "    def rotate_left(self, value_x):\n",
    "        value_y = value_x.right\n",
    "        value_x.right = value_y.left\n",
    "        if value_y.left != self.NULL:\n",
    "            value_y.left.parent = value_x\n",
    "\n",
    "        value_y.parent = value_x.parent\n",
    "        if value_x.parent == None:\n",
    "            self.root = value_y\n",
    "        elif value_x == value_x.parent.left:\n",
    "            value_x.parent.left = value_y\n",
    "        else:\n",
    "            value_x.parent.right = value_y\n",
    "        value_y.left = value_x\n",
    "        value_x.parent = value_y\n",
    "\n",
    "    def rotate_right(self, value_x):\n",
    "        value_y = value_x.left\n",
    "        value_x.left = value_y.right\n",
    "        if value_y.right != self.NULL:\n",
    "            value_y.right.parent = value_x\n",
    "\n",
    "        value_y.parent = value_x.parent\n",
    "        if value_x.parent == None:\n",
    "            self.root = value_y\n",
    "        elif value_x == value_x.parent.right:\n",
    "            value_x.parent.right = value_y\n",
    "        else:\n",
    "            value_x.parent.left = value_y\n",
    "        value_y.right = value_x\n",
    "        value_x.parent = value_y\n",
    "\n",
    "    def insert(self, key):\n",
    "        node = RBNode(key)\n",
    "        node.parent = None\n",
    "        node.data = key\n",
    "        node.left = self.NULL\n",
    "        node.right = self.NULL\n",
    "        node.color = 1 \n",
    "\n",
    "        value_y = None\n",
    "        value_x = self.root\n",
    "\n",
    "        # Inserção como na BST\n",
    "        while value_x != self.NULL:\n",
    "            value_y = value_x\n",
    "            if node.data < value_x.data:\n",
    "                value_x = value_x.left\n",
    "            else:\n",
    "                value_x = value_x.right\n",
    "\n",
    "        node.parent = value_y\n",
    "        if value_y == None:\n",
    "            self.root = node\n",
    "        elif node.data < value_y.data:\n",
    "            value_y.left = node\n",
    "        else:\n",
    "            value_y.right = node\n",
    "\n",
    "        if node.parent == None:\n",
    "            node.color = 0\n",
    "            return\n",
    "\n",
    "        if node.parent.parent == None:\n",
    "            return\n",
    "\n",
    "        self.fix_insert(node)\n",
    "\n",
    "    def get_root(self):\n",
    "        return self.root"
   ]
  },
  {
   "cell_type": "markdown",
   "metadata": {},
   "source": [
    "## Which algorithm is the fastest one for random values?"
   ]
  },
  {
   "cell_type": "markdown",
   "metadata": {},
   "source": [
    "## Random samples for the tests"
   ]
  },
  {
   "cell_type": "code",
   "execution_count": 116,
   "metadata": {},
   "outputs": [],
   "source": [
    "sample = []\n",
    "runtime = []\n",
    "test = []\n",
    "\n",
    "for i in range(1000):\n",
    "    sample.append(randint(0, 10000))"
   ]
  },
  {
   "cell_type": "markdown",
   "metadata": {},
   "source": [
    "## Initializing the tests"
   ]
  },
  {
   "cell_type": "markdown",
   "metadata": {},
   "source": [
    "### AVL"
   ]
  },
  {
   "cell_type": "code",
   "execution_count": 117,
   "metadata": {
    "scrolled": true
   },
   "outputs": [],
   "source": [
    "myTree = AVL_Tree() \n",
    "root = None\n",
    "\n",
    "start = time.time()\n",
    "\n",
    "for i in sample:\n",
    "    root = myTree.insert(root, i) \n",
    "    \n",
    "end = time.time()\n",
    "runtime.append(end-start)\n",
    "    \n",
    "#print(\"Preorder traversal:\\n\\n\") \n",
    "#myTree.preOrder(root)\n",
    "# Delete \n",
    "#key = 10\n",
    "#root = myTree.delete(root, key) \n",
    "  \n",
    "# Preorder Traversal \n",
    "#print(\"Preorder Traversal after deletion -\") \n",
    "#myTree.preOrder(root) \n",
    "#print() "
   ]
  },
  {
   "cell_type": "markdown",
   "metadata": {},
   "source": [
    "### Red Black Tree"
   ]
  },
  {
   "cell_type": "code",
   "execution_count": 118,
   "metadata": {},
   "outputs": [
    {
     "data": {
      "text/plain": [
       "[0.018341064453125, 0.00635981559753418]"
      ]
     },
     "execution_count": 118,
     "metadata": {},
     "output_type": "execute_result"
    }
   ],
   "source": [
    "myTree = Red_Black_Tree()\n",
    "\n",
    "start = time.time()\n",
    "for i in sample:\n",
    "    myTree.insert(i)\n",
    " \n",
    "end = time.time()\n",
    "runtime.append(end-start)\n",
    "    \n",
    "runtime"
   ]
  },
  {
   "cell_type": "markdown",
   "metadata": {},
   "source": [
    "## Visualizing the results"
   ]
  },
  {
   "cell_type": "code",
   "execution_count": 119,
   "metadata": {},
   "outputs": [
    {
     "data": {
      "image/png": "[encoded data removed]",
      "text/plain": [
       "<Figure size 432x288 with 1 Axes>"
      ]
     },
     "metadata": {},
     "output_type": "display_data"
    }
   ],
   "source": [
    "algorithms = ['AVL', 'Red Black']\n",
    "plt.title('Algorithms Runtime', fontsize=25)\n",
    "plt.ylabel('Runtime')\n",
    "plt.bar(algorithms, runtime)\n",
    "plt.show()"
   ]
  },
  {
   "cell_type": "markdown",
   "metadata": {},
   "source": [
    "## Some Notes"
   ]
  },
  {
   "cell_type": "markdown",
   "metadata": {},
   "source": [
    "As we can see, for an array with 1000 random values, going frmm 0 to 10000, the classification, regarding the smaller runtimes, in a nutsheel is:\n",
    "\n",
    "* Red Black Tree \n",
    "* AVL Tree"
   ]
  }
 ],
 "metadata": {
  "kernelspec": {
   "display_name": "Python 3",
   "language": "python",
   "name": "python3"
  },
  "language_info": {
   "codemirror_mode": {
    "name": "ipython",
    "version": 3
   },
   "file_extension": ".py",
   "mimetype": "text/x-python",
   "name": "python",
   "nbconvert_exporter": "python",
   "pygments_lexer": "ipython3",
   "version": "3.7.4"
  }
 },
 "nbformat": 4,
 "nbformat_minor": 2
}
